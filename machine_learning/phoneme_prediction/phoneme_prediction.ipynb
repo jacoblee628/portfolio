{
 "cells": [
  {
   "cell_type": "code",
   "execution_count": null,
   "metadata": {},
   "outputs": [],
   "source": [
    "import numpy as np\n",
    "import sys\n",
    "import os\n",
    "import time\n",
    "import torch\n",
    "import torch.nn as nn\n",
    "import torch.optim as optim\n",
    "import torch.nn.functional as F\n",
    "from torch.utils.data import DataLoader, Dataset\n",
    "\n",
    "import matplotlib.pyplot as plt\n",
    "%matplotlib inline"
   ]
  },
  {
   "cell_type": "code",
   "execution_count": null,
   "metadata": {},
   "outputs": [],
   "source": [
    "cuda = torch.cuda.is_available()\n",
    "cuda"
   ]
  },
  {
   "cell_type": "code",
   "execution_count": null,
   "metadata": {},
   "outputs": [],
   "source": [
    "NUM_LABELS = 138\n",
    "TRAIN_DATA_PATH = 'insert/path/to/data'\n",
    "TRAIN_LABELS_PATH = 'insert/path/to/data'\n",
    "TEST_DATA_PATH = 'insert/path/to/data'\n",
    "num_workers = 4 if cuda else 0\n",
    "k = 12"
   ]
  },
  {
   "cell_type": "code",
   "execution_count": null,
   "metadata": {},
   "outputs": [],
   "source": [
    "# Excluded the creation of the KSpectrograms dataset class\n",
    "# May be private material for future DL students"
   ]
  },
  {
   "cell_type": "code",
   "execution_count": null,
   "metadata": {},
   "outputs": [],
   "source": [
    "train_dataset = KSpectrograms(TRAIN_DATA_PATH, TRAIN_LABELS_PATH, k=k)\n",
    "test_dataset = KSpectrograms(TEST_DATA_PATH, k=k)"
   ]
  },
  {
   "cell_type": "code",
   "execution_count": null,
   "metadata": {},
   "outputs": [],
   "source": [
    "if cuda:\n",
    "    train_loader_args = dict(shuffle=True, batch_size=256, num_workers=num_workers, pin_memory=True, drop_last=True)\n",
    "    test_loader_args = dict(shuffle=False, batch_size=1, num_workers=num_workers, pin_memory=True)\n",
    "else:\n",
    "    train_loader_args = dict(shuffle=True, batch_size=256, drop_last=True)\n",
    "    test_loader_args = dict(shuffle=False, batch_size=1, num_workers=num_workers, pin_memory=True)\n",
    "train_loader = DataLoader(train_dataset, **train_loader_args)\n",
    "test_loader = DataLoader(test_dataset, **test_loader_args)"
   ]
  },
  {
   "cell_type": "code",
   "execution_count": null,
   "metadata": {},
   "outputs": [],
   "source": [
    "class MLP(nn.Module):\n",
    "    def __init__(self):\n",
    "        super(MLP, self).__init__()\n",
    "        layers = []\n",
    "        self.net = nn.Sequential(\n",
    "            nn.Linear((40*(2*k+1)), 4096),\n",
    "            nn.BatchNorm1d(4096),\n",
    "            nn.PReLU(),\n",
    "            nn.Linear(4096, 2048),\n",
    "            nn.BatchNorm1d(2048),\n",
    "            nn.PReLU(),\n",
    "            nn.Linear(2048, 2048),\n",
    "            nn.BatchNorm1d(1024),\n",
    "            nn.PReLU(),\n",
    "            nn.Linear(2048, 1024),\n",
    "            nn.BatchNorm1d(1024),\n",
    "            nn.PReLU(),\n",
    "            nn.Linear(1024, NUM_LABELS)\n",
    "        )\n",
    "    def forward(self, x):\n",
    "        result = self.net(x)\n",
    "        return result"
   ]
  },
  {
   "cell_type": "code",
   "execution_count": null,
   "metadata": {},
   "outputs": [],
   "source": [
    "input_size =  40 * (2 * k + 1)\n",
    "mlp = MLP()\n",
    "criterion = nn.CrossEntropyLoss()\n",
    "optimizer = optim.Adam(mlp.parameters(), betas=(0.9,0.999),lr=1e-4, weight_decay=0)\n",
    "scheduler = optim.lr_scheduler.ExponentialLR(optimizer, gamma=0.7)\n",
    "device = torch.device(\"cuda\" if cuda else \"cpu\")\n",
    "mlp.to(device)\n",
    "print(mlp)"
   ]
  },
  {
   "cell_type": "code",
   "execution_count": null,
   "metadata": {},
   "outputs": [],
   "source": [
    "def train(model, train_loader, criterion, optimizer):\n",
    "    model.train()\n",
    "    running_loss = 0.0\n",
    "    start_time = time.time()\n",
    "    for batch, (data, target) in enumerate(train_loader):\n",
    "        if batch % 5000 == 0:\n",
    "            print(\"Current batch \", batch)\n",
    "        optimizer.zero_grad()\n",
    "        data = data.to(device)\n",
    "        target = target.to(device)\n",
    "\n",
    "        outputs = model(data)\n",
    "        loss = criterion(outputs, target.squeeze())\n",
    "\n",
    "        running_loss += loss.item()\n",
    "        loss.backward()\n",
    "        scheduler.step()\n",
    "    end_time = time.time()\n",
    "    running_loss /= len(train_loader)\n",
    "    print('Training loss: ', running_loss, 'Time: ', end_time - start_time, 's')\n",
    "    return running_loss"
   ]
  },
  {
   "cell_type": "code",
   "execution_count": null,
   "metadata": {},
   "outputs": [],
   "source": [
    "def test_model(model, test_loader, criterion):\n",
    "    with torch.no_grad():\n",
    "        model.eval()\n",
    "\n",
    "        running_loss = 0.0\n",
    "        total_predictions = 0.0\n",
    "        correct_predictions = 0.0\n",
    "\n",
    "        for batch_idx, (data, target) in enumerate(test_loader):   \n",
    "            data = data.to(device)\n",
    "            target = target.to(device)\n",
    "\n",
    "            outputs = model(data)\n",
    "\n",
    "            predicted = torch.max(outputs.data, 0)[1]\n",
    "            total_predictions += target.size(0)\n",
    "            correct_predictions += (predicted == target).sum().item()\n",
    "\n",
    "            loss = criterion(outputs, predicted)\n",
    "            running_loss += loss.item()\n",
    "        running_loss /= len(test_loader)\n",
    "        acc = (correct_predictions/total_predictions)*100.0\n",
    "        print('Testing Loss: ', running_loss)\n",
    "        print('Testing Accuracy: ', acc, '%')\n",
    "        return running_loss, acc"
   ]
  },
  {
   "cell_type": "code",
   "execution_count": null,
   "metadata": {},
   "outputs": [],
   "source": [
    "epochs = 8 # use 5-10\n",
    "train_losses = []\n",
    "test_losses = []\n",
    "test_accs = []"
   ]
  },
  {
   "cell_type": "code",
   "execution_count": null,
   "metadata": {},
   "outputs": [],
   "source": [
    "for epoch in range(epochs):\n",
    "    print(\"Epoch \", epoch + 1)\n",
    "    train_loss = train(mlp, train_loader, criterion, optimizer)\n",
    "    train_losses.append(train_loss)\n",
    "    if epoch > 2 and train_losses[epoch] < train_losses[epoch - 1] and train_losses[epoch] < train_losses[epoch - 2]:\n",
    "        print(\"loss has not decreased, break\")\n",
    "        break\n",
    "    print('=' * 20)"
   ]
  },
  {
   "cell_type": "code",
   "execution_count": null,
   "metadata": {},
   "outputs": [],
   "source": [
    "%debug"
   ]
  },
  {
   "cell_type": "code",
   "execution_count": null,
   "metadata": {},
   "outputs": [],
   "source": [
    "def predict(model, test_loader):\n",
    "    with torch.no_grad():\n",
    "        preds = []\n",
    "        model.eval()\n",
    "        for batch_idx, data in enumerate(test_loader):   \n",
    "            data = data.to(device)\n",
    "            outputs = model(data)\n",
    "            predicted = torch.max(outputs.data, 1)[1]\n",
    "            preds.append(predicted.data)\n",
    "    return preds"
   ]
  },
  {
   "cell_type": "code",
   "execution_count": null,
   "metadata": {},
   "outputs": [],
   "source": [
    "results = predict(mlp, test_loader)"
   ]
  },
  {
   "cell_type": "code",
   "execution_count": null,
   "metadata": {},
   "outputs": [],
   "source": [
    "values = [d.item() for d in results]"
   ]
  }
 ],
 "metadata": {
  "file_extension": ".py",
  "kernelspec": {
   "display_name": "Python 3",
   "language": "python",
   "name": "python3"
  },
  "language_info": {
   "codemirror_mode": {
    "name": "ipython",
    "version": 3
   },
   "file_extension": ".py",
   "mimetype": "text/x-python",
   "name": "python",
   "nbconvert_exporter": "python",
   "pygments_lexer": "ipython3",
   "version": "3.6.5"
  },
  "mimetype": "text/x-python",
  "name": "python",
  "npconvert_exporter": "python",
  "pygments_lexer": "ipython3",
  "version": 3
 },
 "nbformat": 4,
 "nbformat_minor": 2
}